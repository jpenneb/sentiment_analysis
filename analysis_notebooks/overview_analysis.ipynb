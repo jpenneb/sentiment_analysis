{
 "cells": [
  {
   "cell_type": "code",
   "execution_count": null,
   "metadata": {},
   "outputs": [],
   "source": [
    "import pandas as pd\n",
    "import plotly.graph_objects as go\n",
    "\n",
    "# Load original data\n",
    "overview_df = pd.read_csv(\"../overview.csv\")\n",
    "overview_df['Date'] = pd.to_datetime(overview_df['Date'])\n",
    "\n",
    "# Load financial events data\n",
    "events_df = pd.read_csv(\"amenity_extractions.csv\")\n",
    "events_df['Financial Events Publication Date'] = pd.to_datetime(events_df['Financial Events Publication Date'])\n",
    "\n",
    "# Rename columns for easier manipulation\n",
    "events_df.rename(columns={\n",
    "    'Financial Events Publication Date': 'Date',\n",
    "    'Company Info Company': 'Company Ticker',\n",
    "    'Financial Events Polarity': 'Polarity'\n",
    "}, inplace=True)\n",
    "\n",
    "# Calculate sentiment score for each date and company\n",
    "polarity_count = events_df.groupby(['Date', 'Company Ticker', 'Polarity']).size().unstack(fill_value=0)\n",
    "polarity_count['Sentiment Score'] = (polarity_count.get('pos', 0) - polarity_count.get('neg', 0)) / \\\n",
    "                                    (polarity_count.get('pos', 0) + polarity_count.get('neg', 0) + 1)\n",
    "\n",
    "polarity_count.reset_index(inplace=True)\n",
    "\n",
    "# Window size for moving average\n",
    "window_size = 5\n",
    "\n",
    "# Create a Plotly figure\n",
    "fig = go.Figure()\n",
    "\n",
    "# Plotting original data: moving average sentiment score\n",
    "for company in overview_df['Company Ticker'].unique():\n",
    "    company_df = overview_df[overview_df['Company Ticker'] == company].copy()\n",
    "    company_df.sort_values('Date', inplace=True)\n",
    "    company_df['MA Sentiment Score'] = company_df['Sentiment Score'].rolling(window=window_size, min_periods=1).mean()\n",
    "    fig.add_trace(go.Scatter(x=company_df['Date'], y=company_df['MA Sentiment Score'], mode='lines+markers', name=f\"{company} MA Sentiment\"))\n",
    "\n",
    "# Plotting new data: moving average of sentiment score from financial events\n",
    "for company in polarity_count['Company Ticker'].unique():\n",
    "    company_df = polarity_count[polarity_count['Company Ticker'] == company]\n",
    "    company_df.sort_values('Date', inplace=True)\n",
    "    company_df['MA Sentiment Score'] = company_df['Sentiment Score'].rolling(window=window_size, min_periods=1).mean()\n",
    "    fig.add_trace(go.Scatter(x=company_df['Date'], y=company_df['MA Sentiment Score'], mode='lines', name=f\"{company} Events MA Sentiment\"))\n",
    "\n",
    "# Update layout\n",
    "fig.update_layout(title='Comparison of Company Sentiment Scores Over Time (Smoothed)',\n",
    "                  xaxis_title='Date',\n",
    "                  yaxis_title='Sentiment Score',\n",
    "                  template='plotly_dark')\n",
    "\n",
    "# Show the plot\n",
    "fig.show()\n"
   ]
  },
  {
   "cell_type": "code",
   "execution_count": null,
   "metadata": {},
   "outputs": [],
   "source": []
  }
 ],
 "metadata": {
  "kernelspec": {
   "display_name": "Python 3",
   "language": "python",
   "name": "python3"
  },
  "language_info": {
   "codemirror_mode": {
    "name": "ipython",
    "version": 3
   },
   "file_extension": ".py",
   "mimetype": "text/x-python",
   "name": "python",
   "nbconvert_exporter": "python",
   "pygments_lexer": "ipython3",
   "version": "3.9.6"
  }
 },
 "nbformat": 4,
 "nbformat_minor": 2
}
