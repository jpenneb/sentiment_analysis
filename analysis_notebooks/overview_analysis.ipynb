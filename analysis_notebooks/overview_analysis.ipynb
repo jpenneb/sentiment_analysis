{
 "cells": [
  {
   "cell_type": "code",
   "execution_count": 3,
   "metadata": {},
   "outputs": [
    {
     "name": "stderr",
     "output_type": "stream",
     "text": [
      "/var/folders/k7/g3wlfyfj7hx88m5g426q6bx80000gn/T/ipykernel_3698/2053276808.py:42: SettingWithCopyWarning:\n",
      "\n",
      "\n",
      "A value is trying to be set on a copy of a slice from a DataFrame\n",
      "\n",
      "See the caveats in the documentation: https://pandas.pydata.org/pandas-docs/stable/user_guide/indexing.html#returning-a-view-versus-a-copy\n",
      "\n",
      "/var/folders/k7/g3wlfyfj7hx88m5g426q6bx80000gn/T/ipykernel_3698/2053276808.py:43: SettingWithCopyWarning:\n",
      "\n",
      "\n",
      "A value is trying to be set on a copy of a slice from a DataFrame.\n",
      "Try using .loc[row_indexer,col_indexer] = value instead\n",
      "\n",
      "See the caveats in the documentation: https://pandas.pydata.org/pandas-docs/stable/user_guide/indexing.html#returning-a-view-versus-a-copy\n",
      "\n",
      "/var/folders/k7/g3wlfyfj7hx88m5g426q6bx80000gn/T/ipykernel_3698/2053276808.py:42: SettingWithCopyWarning:\n",
      "\n",
      "\n",
      "A value is trying to be set on a copy of a slice from a DataFrame\n",
      "\n",
      "See the caveats in the documentation: https://pandas.pydata.org/pandas-docs/stable/user_guide/indexing.html#returning-a-view-versus-a-copy\n",
      "\n",
      "/var/folders/k7/g3wlfyfj7hx88m5g426q6bx80000gn/T/ipykernel_3698/2053276808.py:43: SettingWithCopyWarning:\n",
      "\n",
      "\n",
      "A value is trying to be set on a copy of a slice from a DataFrame.\n",
      "Try using .loc[row_indexer,col_indexer] = value instead\n",
      "\n",
      "See the caveats in the documentation: https://pandas.pydata.org/pandas-docs/stable/user_guide/indexing.html#returning-a-view-versus-a-copy\n",
      "\n",
      "/var/folders/k7/g3wlfyfj7hx88m5g426q6bx80000gn/T/ipykernel_3698/2053276808.py:42: SettingWithCopyWarning:\n",
      "\n",
      "\n",
      "A value is trying to be set on a copy of a slice from a DataFrame\n",
      "\n",
      "See the caveats in the documentation: https://pandas.pydata.org/pandas-docs/stable/user_guide/indexing.html#returning-a-view-versus-a-copy\n",
      "\n",
      "/var/folders/k7/g3wlfyfj7hx88m5g426q6bx80000gn/T/ipykernel_3698/2053276808.py:43: SettingWithCopyWarning:\n",
      "\n",
      "\n",
      "A value is trying to be set on a copy of a slice from a DataFrame.\n",
      "Try using .loc[row_indexer,col_indexer] = value instead\n",
      "\n",
      "See the caveats in the documentation: https://pandas.pydata.org/pandas-docs/stable/user_guide/indexing.html#returning-a-view-versus-a-copy\n",
      "\n"
     ]
    },
    {
     "data": {
      "application/vnd.plotly.v1+json": {
       "config": {
        "plotlyServerURL": "https://plot.ly"
       },
       "data": [
        {
         "mode": "lines+markers",
         "name": "RoBERTa_fine_tuned_on_margin_GPS MA Sentiment",
         "type": "scatter",
         "x": [
          "2020-06-05T03:57:06",
          "2020-08-28T00:00:58",
          "2020-11-25T07:36:35",
          "2021-03-04T22:37:05",
          "2021-05-27T23:14:03",
          "2021-08-26T21:46:11",
          "2021-11-23T23:33:05",
          "2022-03-03T20:59:08",
          "2022-05-26T21:51:05",
          "2022-08-25T20:29:06",
          "2022-11-17T18:38:06",
          "2023-03-09T18:21:04",
          "2023-05-25T20:30:21",
          "2023-08-24T19:18:05",
          "2023-11-16T19:23:09",
          "2024-03-07T20:34:03"
         ],
         "y": [
          0.2666666666666666,
          0.48115942028985503,
          0.5429951690821255,
          0.5808574879227053,
          0.6257971014492754,
          0.759963768115942,
          0.7173850574712644,
          0.6746177618737801,
          0.5599712972273154,
          0.485526852782871,
          0.3446935194495377,
          0.23385608102589237,
          0.32106782106782106,
          0.4380018674136322,
          0.5144930954838076,
          0.6628264288171408
         ]
        },
        {
         "mode": "lines+markers",
         "name": "RoBERTa_fine_tuned_on_margin_added_samples_GPS MA Sentiment",
         "type": "scatter",
         "x": [
          "2020-06-05T03:57:06",
          "2020-08-28T00:00:58",
          "2020-11-25T07:36:35",
          "2021-03-04T22:37:05",
          "2021-05-27T23:14:03",
          "2021-08-26T21:46:11",
          "2021-11-23T23:33:05",
          "2022-03-03T20:59:08",
          "2022-05-26T21:51:05",
          "2022-08-25T20:29:06",
          "2022-11-17T18:38:06",
          "2023-03-09T18:21:04",
          "2023-05-25T20:30:21",
          "2023-08-24T19:18:05",
          "2023-11-16T19:23:09",
          "2024-03-07T20:34:03"
         ],
         "y": [
          0.3636363636363636,
          0.507399577167019,
          0.6059431524547804,
          0.6493726185783734,
          0.6703177669938463,
          0.7483151319477329,
          0.7164432295459029,
          0.6620871689398424,
          0.5622953164272049,
          0.4714756442960574,
          0.3885476167843894,
          0.25941773027745374,
          0.20188567899540244,
          0.12574532811820946,
          0.10730376967665103,
          0.1432108632108632
         ]
        },
        {
         "mode": "lines+markers",
         "name": "roberta-base_fine_tuned_on_synthetic_earnings_call_transcripts_margin_data_GPS_attempt_1 MA Sentiment",
         "type": "scatter",
         "x": [
          "2020-06-05T03:57:06",
          "2020-08-28T00:00:58",
          "2020-11-25T07:36:35",
          "2021-03-04T22:37:05",
          "2021-05-27T23:14:03",
          "2021-08-26T21:46:11",
          "2021-11-23T23:33:05",
          "2022-03-03T20:59:08",
          "2022-05-26T21:51:05",
          "2022-08-25T20:29:06",
          "2022-11-17T18:38:06",
          "2023-03-09T18:21:04",
          "2023-05-25T20:30:21",
          "2023-08-24T19:18:05",
          "2023-11-16T19:23:09",
          "2024-03-07T20:34:03"
         ],
         "y": [
          -0.028169014084507,
          0.1251559992868604,
          0.30218733285790694,
          0.36891692240765783,
          0.43989544268803105,
          0.5788625788382658,
          0.5687546116007378,
          0.5423238887091716,
          0.41699195913088294,
          0.28132096345988733,
          0.23758763012655398,
          0.20933272816576967,
          0.1303755200228532,
          0.162938942968707,
          0.20639040675915385,
          0.2125046924734396
         ]
        },
        {
         "mode": "lines+markers",
         "name": "roberta-base_fine_tuned_on_synthetic_earnings_call_transcripts_margin_data_GPS_attempt_2 MA Sentiment",
         "type": "scatter",
         "x": [
          "2020-06-05T03:57:06",
          "2020-08-28T00:00:58",
          "2020-11-25T07:36:35",
          "2021-03-04T22:37:05",
          "2021-05-27T23:14:03",
          "2021-08-26T21:46:11",
          "2021-11-23T23:33:05",
          "2022-03-03T20:59:08",
          "2022-05-26T21:51:05",
          "2022-08-25T20:29:06",
          "2022-11-17T18:38:06",
          "2023-03-09T18:21:04",
          "2023-05-25T20:30:21",
          "2023-08-24T19:18:05",
          "2023-11-16T19:23:09",
          "2024-03-07T20:34:03"
         ],
         "y": [
          0.4534412955465587,
          0.5696410017555802,
          0.6193440011703868,
          0.6233315302895548,
          0.6502525258189454,
          0.7142309333763004,
          0.6542686741363213,
          0.6247078633255103,
          0.549732373129432,
          0.47553637588995645,
          0.43025746432533063,
          0.3947182486390561,
          0.35778227833398707,
          0.3984525681890595,
          0.4295632881327315,
          0.4506442830306906
         ]
        },
        {
         "mode": "lines+markers",
         "name": "roberta-base_fine_tuned_on_synthetic_earnings_call_transcripts_margin_data_GPS_attempt_3 MA Sentiment",
         "type": "scatter",
         "x": [
          "2020-06-05T03:57:06",
          "2020-08-28T00:00:58",
          "2020-11-25T07:36:35",
          "2021-03-04T22:37:05",
          "2021-05-27T23:14:03",
          "2021-08-26T21:46:11",
          "2021-11-23T23:33:05",
          "2022-03-03T20:59:08",
          "2022-05-26T21:51:05",
          "2022-08-25T20:29:06",
          "2022-11-17T18:38:06",
          "2023-03-09T18:21:04",
          "2023-05-25T20:30:21",
          "2023-08-24T19:18:05",
          "2023-11-16T19:23:09",
          "2024-03-07T20:34:03"
         ],
         "y": [
          -0.1181818181818181,
          -0.0053274682306940005,
          0.06372664197464438,
          0.10508664814764992,
          0.16999524444404585,
          0.2972679717167731,
          0.2649192218787112,
          0.22917652685829432,
          0.09294771329897233,
          -0.02228855745453978,
          -0.12592492109090342,
          -0.1656433453497365,
          -0.18455333709209815,
          -0.12068846911100742,
          -0.06657192273303363,
          0.003226734985087176
         ]
        },
        {
         "mode": "lines",
         "name": "Micron Technology, Inc. (MU:US) Events MA Sentiment",
         "type": "scatter",
         "x": [
          "2021-01-07T00:00:00",
          "2021-03-31T00:00:00",
          "2021-06-30T00:00:00",
          "2021-09-28T00:00:00",
          "2021-12-20T00:00:00",
          "2022-03-29T00:00:00",
          "2022-06-30T00:00:00",
          "2022-09-29T00:00:00",
          "2022-12-21T00:00:00",
          "2023-03-28T00:00:00",
          "2023-06-28T00:00:00",
          "2023-09-27T00:00:00",
          "2023-12-20T00:00:00",
          "2024-03-20T00:00:00"
         ],
         "y": [
          0,
          0.4375,
          0.5138888888888888,
          0.43898809523809523,
          0.4511904761904762,
          0.6454761904761905,
          0.4371428571428571,
          0.2538095238095238,
          0.05095238095238095,
          0.05095238095238095,
          -0.0706060606060606,
          0.06939393939393938,
          0.29082251082251076,
          0.6222510822510823
         ]
        },
        {
         "mode": "lines",
         "name": "Mattel, Inc. (MAT:US) Events MA Sentiment",
         "type": "scatter",
         "x": [
          "2021-02-09T00:00:00",
          "2021-04-22T00:00:00",
          "2021-07-27T00:00:00",
          "2021-10-21T00:00:00",
          "2022-02-09T00:00:00",
          "2022-04-27T00:00:00",
          "2022-07-21T00:00:00",
          "2022-10-25T00:00:00",
          "2023-02-08T00:00:00",
          "2023-04-26T00:00:00",
          "2023-07-26T00:00:00",
          "2023-10-25T00:00:00",
          "2024-02-07T00:00:00",
          "2024-04-23T00:00:00"
         ],
         "y": [
          0.5,
          0.5357142857142857,
          0.35714285714285715,
          0.04563492063492064,
          0.009841269841269845,
          -0.13460317460317459,
          -0.3488888888888889,
          -0.3238888888888889,
          -0.19055555555555553,
          -0.2972222222222222,
          -0.15277777777777773,
          0.07222222222222223,
          0.23055555555555554,
          0.45681818181818185
         ]
        },
        {
         "mode": "lines",
         "name": "Gap, Inc. (GPS:US) Events MA Sentiment",
         "type": "scatter",
         "x": [
          "2021-03-04T00:00:00",
          "2021-05-27T00:00:00",
          "2021-08-26T00:00:00",
          "2021-11-23T00:00:00",
          "2022-03-03T00:00:00",
          "2022-05-26T00:00:00",
          "2022-08-25T00:00:00",
          "2022-11-17T00:00:00",
          "2023-03-09T00:00:00",
          "2023-05-25T00:00:00",
          "2023-08-24T00:00:00",
          "2023-11-16T00:00:00",
          "2024-03-07T00:00:00"
         ],
         "y": [
          0.8571428571428571,
          0.8785714285714286,
          0.8634920634920635,
          0.719047619047619,
          0.5752380952380952,
          0.3038095238095238,
          0.15714285714285714,
          -0.08952380952380953,
          -0.24666666666666667,
          -0.07166666666666668,
          0.195,
          0.2902380952380953,
          0.5577380952380953
         ]
        }
       ],
       "layout": {
        "template": {
         "data": {
          "bar": [
           {
            "error_x": {
             "color": "#f2f5fa"
            },
            "error_y": {
             "color": "#f2f5fa"
            },
            "marker": {
             "line": {
              "color": "rgb(17,17,17)",
              "width": 0.5
             },
             "pattern": {
              "fillmode": "overlay",
              "size": 10,
              "solidity": 0.2
             }
            },
            "type": "bar"
           }
          ],
          "barpolar": [
           {
            "marker": {
             "line": {
              "color": "rgb(17,17,17)",
              "width": 0.5
             },
             "pattern": {
              "fillmode": "overlay",
              "size": 10,
              "solidity": 0.2
             }
            },
            "type": "barpolar"
           }
          ],
          "carpet": [
           {
            "aaxis": {
             "endlinecolor": "#A2B1C6",
             "gridcolor": "#506784",
             "linecolor": "#506784",
             "minorgridcolor": "#506784",
             "startlinecolor": "#A2B1C6"
            },
            "baxis": {
             "endlinecolor": "#A2B1C6",
             "gridcolor": "#506784",
             "linecolor": "#506784",
             "minorgridcolor": "#506784",
             "startlinecolor": "#A2B1C6"
            },
            "type": "carpet"
           }
          ],
          "choropleth": [
           {
            "colorbar": {
             "outlinewidth": 0,
             "ticks": ""
            },
            "type": "choropleth"
           }
          ],
          "contour": [
           {
            "colorbar": {
             "outlinewidth": 0,
             "ticks": ""
            },
            "colorscale": [
             [
              0,
              "#0d0887"
             ],
             [
              0.1111111111111111,
              "#46039f"
             ],
             [
              0.2222222222222222,
              "#7201a8"
             ],
             [
              0.3333333333333333,
              "#9c179e"
             ],
             [
              0.4444444444444444,
              "#bd3786"
             ],
             [
              0.5555555555555556,
              "#d8576b"
             ],
             [
              0.6666666666666666,
              "#ed7953"
             ],
             [
              0.7777777777777778,
              "#fb9f3a"
             ],
             [
              0.8888888888888888,
              "#fdca26"
             ],
             [
              1,
              "#f0f921"
             ]
            ],
            "type": "contour"
           }
          ],
          "contourcarpet": [
           {
            "colorbar": {
             "outlinewidth": 0,
             "ticks": ""
            },
            "type": "contourcarpet"
           }
          ],
          "heatmap": [
           {
            "colorbar": {
             "outlinewidth": 0,
             "ticks": ""
            },
            "colorscale": [
             [
              0,
              "#0d0887"
             ],
             [
              0.1111111111111111,
              "#46039f"
             ],
             [
              0.2222222222222222,
              "#7201a8"
             ],
             [
              0.3333333333333333,
              "#9c179e"
             ],
             [
              0.4444444444444444,
              "#bd3786"
             ],
             [
              0.5555555555555556,
              "#d8576b"
             ],
             [
              0.6666666666666666,
              "#ed7953"
             ],
             [
              0.7777777777777778,
              "#fb9f3a"
             ],
             [
              0.8888888888888888,
              "#fdca26"
             ],
             [
              1,
              "#f0f921"
             ]
            ],
            "type": "heatmap"
           }
          ],
          "heatmapgl": [
           {
            "colorbar": {
             "outlinewidth": 0,
             "ticks": ""
            },
            "colorscale": [
             [
              0,
              "#0d0887"
             ],
             [
              0.1111111111111111,
              "#46039f"
             ],
             [
              0.2222222222222222,
              "#7201a8"
             ],
             [
              0.3333333333333333,
              "#9c179e"
             ],
             [
              0.4444444444444444,
              "#bd3786"
             ],
             [
              0.5555555555555556,
              "#d8576b"
             ],
             [
              0.6666666666666666,
              "#ed7953"
             ],
             [
              0.7777777777777778,
              "#fb9f3a"
             ],
             [
              0.8888888888888888,
              "#fdca26"
             ],
             [
              1,
              "#f0f921"
             ]
            ],
            "type": "heatmapgl"
           }
          ],
          "histogram": [
           {
            "marker": {
             "pattern": {
              "fillmode": "overlay",
              "size": 10,
              "solidity": 0.2
             }
            },
            "type": "histogram"
           }
          ],
          "histogram2d": [
           {
            "colorbar": {
             "outlinewidth": 0,
             "ticks": ""
            },
            "colorscale": [
             [
              0,
              "#0d0887"
             ],
             [
              0.1111111111111111,
              "#46039f"
             ],
             [
              0.2222222222222222,
              "#7201a8"
             ],
             [
              0.3333333333333333,
              "#9c179e"
             ],
             [
              0.4444444444444444,
              "#bd3786"
             ],
             [
              0.5555555555555556,
              "#d8576b"
             ],
             [
              0.6666666666666666,
              "#ed7953"
             ],
             [
              0.7777777777777778,
              "#fb9f3a"
             ],
             [
              0.8888888888888888,
              "#fdca26"
             ],
             [
              1,
              "#f0f921"
             ]
            ],
            "type": "histogram2d"
           }
          ],
          "histogram2dcontour": [
           {
            "colorbar": {
             "outlinewidth": 0,
             "ticks": ""
            },
            "colorscale": [
             [
              0,
              "#0d0887"
             ],
             [
              0.1111111111111111,
              "#46039f"
             ],
             [
              0.2222222222222222,
              "#7201a8"
             ],
             [
              0.3333333333333333,
              "#9c179e"
             ],
             [
              0.4444444444444444,
              "#bd3786"
             ],
             [
              0.5555555555555556,
              "#d8576b"
             ],
             [
              0.6666666666666666,
              "#ed7953"
             ],
             [
              0.7777777777777778,
              "#fb9f3a"
             ],
             [
              0.8888888888888888,
              "#fdca26"
             ],
             [
              1,
              "#f0f921"
             ]
            ],
            "type": "histogram2dcontour"
           }
          ],
          "mesh3d": [
           {
            "colorbar": {
             "outlinewidth": 0,
             "ticks": ""
            },
            "type": "mesh3d"
           }
          ],
          "parcoords": [
           {
            "line": {
             "colorbar": {
              "outlinewidth": 0,
              "ticks": ""
             }
            },
            "type": "parcoords"
           }
          ],
          "pie": [
           {
            "automargin": true,
            "type": "pie"
           }
          ],
          "scatter": [
           {
            "marker": {
             "line": {
              "color": "#283442"
             }
            },
            "type": "scatter"
           }
          ],
          "scatter3d": [
           {
            "line": {
             "colorbar": {
              "outlinewidth": 0,
              "ticks": ""
             }
            },
            "marker": {
             "colorbar": {
              "outlinewidth": 0,
              "ticks": ""
             }
            },
            "type": "scatter3d"
           }
          ],
          "scattercarpet": [
           {
            "marker": {
             "colorbar": {
              "outlinewidth": 0,
              "ticks": ""
             }
            },
            "type": "scattercarpet"
           }
          ],
          "scattergeo": [
           {
            "marker": {
             "colorbar": {
              "outlinewidth": 0,
              "ticks": ""
             }
            },
            "type": "scattergeo"
           }
          ],
          "scattergl": [
           {
            "marker": {
             "line": {
              "color": "#283442"
             }
            },
            "type": "scattergl"
           }
          ],
          "scattermapbox": [
           {
            "marker": {
             "colorbar": {
              "outlinewidth": 0,
              "ticks": ""
             }
            },
            "type": "scattermapbox"
           }
          ],
          "scatterpolar": [
           {
            "marker": {
             "colorbar": {
              "outlinewidth": 0,
              "ticks": ""
             }
            },
            "type": "scatterpolar"
           }
          ],
          "scatterpolargl": [
           {
            "marker": {
             "colorbar": {
              "outlinewidth": 0,
              "ticks": ""
             }
            },
            "type": "scatterpolargl"
           }
          ],
          "scatterternary": [
           {
            "marker": {
             "colorbar": {
              "outlinewidth": 0,
              "ticks": ""
             }
            },
            "type": "scatterternary"
           }
          ],
          "surface": [
           {
            "colorbar": {
             "outlinewidth": 0,
             "ticks": ""
            },
            "colorscale": [
             [
              0,
              "#0d0887"
             ],
             [
              0.1111111111111111,
              "#46039f"
             ],
             [
              0.2222222222222222,
              "#7201a8"
             ],
             [
              0.3333333333333333,
              "#9c179e"
             ],
             [
              0.4444444444444444,
              "#bd3786"
             ],
             [
              0.5555555555555556,
              "#d8576b"
             ],
             [
              0.6666666666666666,
              "#ed7953"
             ],
             [
              0.7777777777777778,
              "#fb9f3a"
             ],
             [
              0.8888888888888888,
              "#fdca26"
             ],
             [
              1,
              "#f0f921"
             ]
            ],
            "type": "surface"
           }
          ],
          "table": [
           {
            "cells": {
             "fill": {
              "color": "#506784"
             },
             "line": {
              "color": "rgb(17,17,17)"
             }
            },
            "header": {
             "fill": {
              "color": "#2a3f5f"
             },
             "line": {
              "color": "rgb(17,17,17)"
             }
            },
            "type": "table"
           }
          ]
         },
         "layout": {
          "annotationdefaults": {
           "arrowcolor": "#f2f5fa",
           "arrowhead": 0,
           "arrowwidth": 1
          },
          "autotypenumbers": "strict",
          "coloraxis": {
           "colorbar": {
            "outlinewidth": 0,
            "ticks": ""
           }
          },
          "colorscale": {
           "diverging": [
            [
             0,
             "#8e0152"
            ],
            [
             0.1,
             "#c51b7d"
            ],
            [
             0.2,
             "#de77ae"
            ],
            [
             0.3,
             "#f1b6da"
            ],
            [
             0.4,
             "#fde0ef"
            ],
            [
             0.5,
             "#f7f7f7"
            ],
            [
             0.6,
             "#e6f5d0"
            ],
            [
             0.7,
             "#b8e186"
            ],
            [
             0.8,
             "#7fbc41"
            ],
            [
             0.9,
             "#4d9221"
            ],
            [
             1,
             "#276419"
            ]
           ],
           "sequential": [
            [
             0,
             "#0d0887"
            ],
            [
             0.1111111111111111,
             "#46039f"
            ],
            [
             0.2222222222222222,
             "#7201a8"
            ],
            [
             0.3333333333333333,
             "#9c179e"
            ],
            [
             0.4444444444444444,
             "#bd3786"
            ],
            [
             0.5555555555555556,
             "#d8576b"
            ],
            [
             0.6666666666666666,
             "#ed7953"
            ],
            [
             0.7777777777777778,
             "#fb9f3a"
            ],
            [
             0.8888888888888888,
             "#fdca26"
            ],
            [
             1,
             "#f0f921"
            ]
           ],
           "sequentialminus": [
            [
             0,
             "#0d0887"
            ],
            [
             0.1111111111111111,
             "#46039f"
            ],
            [
             0.2222222222222222,
             "#7201a8"
            ],
            [
             0.3333333333333333,
             "#9c179e"
            ],
            [
             0.4444444444444444,
             "#bd3786"
            ],
            [
             0.5555555555555556,
             "#d8576b"
            ],
            [
             0.6666666666666666,
             "#ed7953"
            ],
            [
             0.7777777777777778,
             "#fb9f3a"
            ],
            [
             0.8888888888888888,
             "#fdca26"
            ],
            [
             1,
             "#f0f921"
            ]
           ]
          },
          "colorway": [
           "#636efa",
           "#EF553B",
           "#00cc96",
           "#ab63fa",
           "#FFA15A",
           "#19d3f3",
           "#FF6692",
           "#B6E880",
           "#FF97FF",
           "#FECB52"
          ],
          "font": {
           "color": "#f2f5fa"
          },
          "geo": {
           "bgcolor": "rgb(17,17,17)",
           "lakecolor": "rgb(17,17,17)",
           "landcolor": "rgb(17,17,17)",
           "showlakes": true,
           "showland": true,
           "subunitcolor": "#506784"
          },
          "hoverlabel": {
           "align": "left"
          },
          "hovermode": "closest",
          "mapbox": {
           "style": "dark"
          },
          "paper_bgcolor": "rgb(17,17,17)",
          "plot_bgcolor": "rgb(17,17,17)",
          "polar": {
           "angularaxis": {
            "gridcolor": "#506784",
            "linecolor": "#506784",
            "ticks": ""
           },
           "bgcolor": "rgb(17,17,17)",
           "radialaxis": {
            "gridcolor": "#506784",
            "linecolor": "#506784",
            "ticks": ""
           }
          },
          "scene": {
           "xaxis": {
            "backgroundcolor": "rgb(17,17,17)",
            "gridcolor": "#506784",
            "gridwidth": 2,
            "linecolor": "#506784",
            "showbackground": true,
            "ticks": "",
            "zerolinecolor": "#C8D4E3"
           },
           "yaxis": {
            "backgroundcolor": "rgb(17,17,17)",
            "gridcolor": "#506784",
            "gridwidth": 2,
            "linecolor": "#506784",
            "showbackground": true,
            "ticks": "",
            "zerolinecolor": "#C8D4E3"
           },
           "zaxis": {
            "backgroundcolor": "rgb(17,17,17)",
            "gridcolor": "#506784",
            "gridwidth": 2,
            "linecolor": "#506784",
            "showbackground": true,
            "ticks": "",
            "zerolinecolor": "#C8D4E3"
           }
          },
          "shapedefaults": {
           "line": {
            "color": "#f2f5fa"
           }
          },
          "sliderdefaults": {
           "bgcolor": "#C8D4E3",
           "bordercolor": "rgb(17,17,17)",
           "borderwidth": 1,
           "tickwidth": 0
          },
          "ternary": {
           "aaxis": {
            "gridcolor": "#506784",
            "linecolor": "#506784",
            "ticks": ""
           },
           "baxis": {
            "gridcolor": "#506784",
            "linecolor": "#506784",
            "ticks": ""
           },
           "bgcolor": "rgb(17,17,17)",
           "caxis": {
            "gridcolor": "#506784",
            "linecolor": "#506784",
            "ticks": ""
           }
          },
          "title": {
           "x": 0.05
          },
          "updatemenudefaults": {
           "bgcolor": "#506784",
           "borderwidth": 0
          },
          "xaxis": {
           "automargin": true,
           "gridcolor": "#283442",
           "linecolor": "#506784",
           "ticks": "",
           "title": {
            "standoff": 15
           },
           "zerolinecolor": "#283442",
           "zerolinewidth": 2
          },
          "yaxis": {
           "automargin": true,
           "gridcolor": "#283442",
           "linecolor": "#506784",
           "ticks": "",
           "title": {
            "standoff": 15
           },
           "zerolinecolor": "#283442",
           "zerolinewidth": 2
          }
         }
        },
        "title": {
         "text": "Comparison of Company Sentiment Scores Over Time (Smoothed)"
        },
        "xaxis": {
         "title": {
          "text": "Date"
         }
        },
        "yaxis": {
         "title": {
          "text": "Sentiment Score"
         }
        }
       }
      }
     },
     "metadata": {},
     "output_type": "display_data"
    }
   ],
   "source": [
    "import pandas as pd\n",
    "import plotly.graph_objects as go\n",
    "\n",
    "# Load original data\n",
    "overview_df = pd.read_csv(\"../overview_files_archive/overview_margin.csv\")\n",
    "overview_df['Date'] = pd.to_datetime(overview_df['Date'])\n",
    "\n",
    "# Load financial events data\n",
    "events_df = pd.read_csv(\"amenity_extractions.csv\")\n",
    "events_df['Financial Events Publication Date'] = pd.to_datetime(events_df['Financial Events Publication Date'])\n",
    "\n",
    "# Rename columns for easier manipulation\n",
    "events_df.rename(columns={\n",
    "    'Financial Events Publication Date': 'Date',\n",
    "    'Company Info Company': 'Company Ticker',\n",
    "    'Financial Events Polarity': 'Polarity'\n",
    "}, inplace=True)\n",
    "\n",
    "# Calculate sentiment score for each date and company\n",
    "polarity_count = events_df.groupby(['Date', 'Company Ticker', 'Polarity']).size().unstack(fill_value=0)\n",
    "polarity_count['Sentiment Score'] = (polarity_count.get('pos', 0) - polarity_count.get('neg', 0)) / \\\n",
    "                                    (polarity_count.get('pos', 0) + polarity_count.get('neg', 0) + 1)\n",
    "\n",
    "polarity_count.reset_index(inplace=True)\n",
    "\n",
    "# Window size for moving average\n",
    "window_size = 5\n",
    "\n",
    "# Create a Plotly figure\n",
    "fig = go.Figure()\n",
    "\n",
    "# Plotting original data: moving average sentiment score\n",
    "for company in overview_df['Company Ticker'].unique():\n",
    "    company_df = overview_df[overview_df['Company Ticker'] == company].copy()\n",
    "    company_df.sort_values('Date', inplace=True)\n",
    "    company_df['MA Sentiment Score'] = company_df['Sentiment Score'].rolling(window=window_size, min_periods=1).mean()\n",
    "    fig.add_trace(go.Scatter(x=company_df['Date'], y=company_df['MA Sentiment Score'], mode='lines+markers', name=f\"{company} MA Sentiment\"))\n",
    "\n",
    "# Plotting new data: moving average of sentiment score from financial events\n",
    "for company in polarity_count['Company Ticker'].unique():\n",
    "    company_df = polarity_count[polarity_count['Company Ticker'] == company]\n",
    "    company_df.sort_values('Date', inplace=True)\n",
    "    company_df['MA Sentiment Score'] = company_df['Sentiment Score'].rolling(window=window_size, min_periods=1).mean()\n",
    "    fig.add_trace(go.Scatter(x=company_df['Date'], y=company_df['MA Sentiment Score'], mode='lines', name=f\"{company} Events MA Sentiment\"))\n",
    "\n",
    "# Update layout\n",
    "fig.update_layout(title='Comparison of Company Sentiment Scores Over Time (Smoothed)',\n",
    "                  xaxis_title='Date',\n",
    "                  yaxis_title='Sentiment Score',\n",
    "                  template='plotly_dark')\n",
    "\n",
    "# Show the plot\n",
    "fig.show()\n"
   ]
  },
  {
   "cell_type": "code",
   "execution_count": 6,
   "metadata": {},
   "outputs": [
    {
     "data": {
      "application/vnd.plotly.v1+json": {
       "config": {
        "plotlyServerURL": "https://plot.ly"
       },
       "data": [
        {
         "mode": "lines+markers",
         "name": "Monthly Values",
         "type": "scatter",
         "x": [
          "2020-01-31T00:00:00",
          "2020-02-29T00:00:00",
          "2020-03-31T00:00:00",
          "2020-04-30T00:00:00",
          "2020-05-31T00:00:00",
          "2020-06-30T00:00:00",
          "2020-07-31T00:00:00",
          "2020-08-31T00:00:00",
          "2020-09-30T00:00:00",
          "2020-10-31T00:00:00",
          "2020-11-30T00:00:00",
          "2020-12-31T00:00:00",
          "2021-01-31T00:00:00",
          "2021-02-28T00:00:00",
          "2021-03-31T00:00:00",
          "2021-04-30T00:00:00",
          "2021-05-31T00:00:00",
          "2021-06-30T00:00:00",
          "2021-07-31T00:00:00",
          "2021-08-31T00:00:00",
          "2021-09-30T00:00:00",
          "2021-10-31T00:00:00",
          "2021-11-30T00:00:00",
          "2021-12-31T00:00:00",
          "2022-01-31T00:00:00",
          "2022-02-28T00:00:00",
          "2022-03-31T00:00:00",
          "2022-04-30T00:00:00",
          "2022-05-31T00:00:00",
          "2022-06-30T00:00:00",
          "2022-07-31T00:00:00",
          "2022-08-31T00:00:00",
          "2022-09-30T00:00:00",
          "2022-10-31T00:00:00",
          "2022-11-30T00:00:00",
          "2022-12-31T00:00:00",
          "2023-01-31T00:00:00",
          "2023-02-28T00:00:00",
          "2023-03-31T00:00:00",
          "2023-04-30T00:00:00",
          "2023-05-31T00:00:00",
          "2023-06-30T00:00:00",
          "2023-07-31T00:00:00",
          "2023-08-31T00:00:00",
          "2023-09-30T00:00:00",
          "2023-10-31T00:00:00",
          "2023-11-30T00:00:00",
          "2023-12-31T00:00:00",
          "2024-01-31T00:00:00",
          "2024-02-29T00:00:00",
          "2024-03-31T00:00:00",
          "2024-04-30T00:00:00"
         ],
         "y": [
          2.5,
          2.3,
          1.5,
          0.3,
          0.1,
          0.6,
          1,
          1.3,
          1.4,
          1.2,
          1.2,
          1.4,
          1.4,
          1.7,
          2.6,
          4.2,
          5,
          5.4,
          5.4,
          5.3,
          5.4,
          6.2,
          6.8,
          7,
          7.5,
          7.9,
          8.5,
          8.3,
          8.6,
          9.1,
          8.5,
          8.3,
          8.2,
          7.7,
          7.1,
          6.5,
          6.4,
          6,
          5,
          4.9,
          4,
          3,
          3.2,
          3.7,
          3.7,
          3.2,
          3.1,
          3.4,
          3.1,
          3.2,
          3.5,
          null
         ],
         "yaxis": "y"
        },
        {
         "mode": "lines+markers",
         "name": "roberta-base_fine_tuned_on_synthetic_earnings_call_transcripts_inflation_data_GPS MA Sentiment",
         "type": "scatter",
         "x": [
          "2020-06-05T03:57:06",
          "2020-08-28T00:00:58",
          "2020-11-25T07:36:35",
          "2021-03-04T22:37:05",
          "2021-05-27T23:14:03",
          "2021-08-26T21:46:11",
          "2021-11-23T23:33:05",
          "2022-03-03T20:59:08",
          "2022-05-26T21:51:05",
          "2022-05-26T21:51:05",
          "2022-08-25T20:29:06",
          "2022-08-25T20:29:06",
          "2022-11-17T18:38:06",
          "2023-03-09T18:21:04",
          "2023-05-25T20:30:21",
          "2023-05-25T20:30:21",
          "2023-08-24T19:18:05",
          "2023-08-24T19:18:05",
          "2023-11-16T19:23:09",
          "2023-11-16T19:23:09",
          "2024-03-07T20:34:03",
          "2024-03-07T20:34:03"
         ],
         "y": [
          -0.7272727272727273,
          -0.2207792207792208,
          -0.3138528138528139,
          -0.36038961038961037,
          -0.36103896103896105,
          -0.21753246753246755,
          -0.2697897340754484,
          -0.3235660173160173,
          -0.34376803751803753,
          -0.2547379469542046,
          -0.06754061039246126,
          -0.09254061039246127,
          -0.16166939827124915,
          -0.3203232444250953,
          -0.12268810928996014,
          -0.07268810928996017,
          0.022798001821150944,
          0.02277272666662783,
          -0.0791973371678428,
          0.13302611415959084,
          0.24760944749292418,
          0.46848856837204506
         ],
         "yaxis": "y2"
        }
       ],
       "layout": {
        "template": {
         "data": {
          "bar": [
           {
            "error_x": {
             "color": "#f2f5fa"
            },
            "error_y": {
             "color": "#f2f5fa"
            },
            "marker": {
             "line": {
              "color": "rgb(17,17,17)",
              "width": 0.5
             },
             "pattern": {
              "fillmode": "overlay",
              "size": 10,
              "solidity": 0.2
             }
            },
            "type": "bar"
           }
          ],
          "barpolar": [
           {
            "marker": {
             "line": {
              "color": "rgb(17,17,17)",
              "width": 0.5
             },
             "pattern": {
              "fillmode": "overlay",
              "size": 10,
              "solidity": 0.2
             }
            },
            "type": "barpolar"
           }
          ],
          "carpet": [
           {
            "aaxis": {
             "endlinecolor": "#A2B1C6",
             "gridcolor": "#506784",
             "linecolor": "#506784",
             "minorgridcolor": "#506784",
             "startlinecolor": "#A2B1C6"
            },
            "baxis": {
             "endlinecolor": "#A2B1C6",
             "gridcolor": "#506784",
             "linecolor": "#506784",
             "minorgridcolor": "#506784",
             "startlinecolor": "#A2B1C6"
            },
            "type": "carpet"
           }
          ],
          "choropleth": [
           {
            "colorbar": {
             "outlinewidth": 0,
             "ticks": ""
            },
            "type": "choropleth"
           }
          ],
          "contour": [
           {
            "colorbar": {
             "outlinewidth": 0,
             "ticks": ""
            },
            "colorscale": [
             [
              0,
              "#0d0887"
             ],
             [
              0.1111111111111111,
              "#46039f"
             ],
             [
              0.2222222222222222,
              "#7201a8"
             ],
             [
              0.3333333333333333,
              "#9c179e"
             ],
             [
              0.4444444444444444,
              "#bd3786"
             ],
             [
              0.5555555555555556,
              "#d8576b"
             ],
             [
              0.6666666666666666,
              "#ed7953"
             ],
             [
              0.7777777777777778,
              "#fb9f3a"
             ],
             [
              0.8888888888888888,
              "#fdca26"
             ],
             [
              1,
              "#f0f921"
             ]
            ],
            "type": "contour"
           }
          ],
          "contourcarpet": [
           {
            "colorbar": {
             "outlinewidth": 0,
             "ticks": ""
            },
            "type": "contourcarpet"
           }
          ],
          "heatmap": [
           {
            "colorbar": {
             "outlinewidth": 0,
             "ticks": ""
            },
            "colorscale": [
             [
              0,
              "#0d0887"
             ],
             [
              0.1111111111111111,
              "#46039f"
             ],
             [
              0.2222222222222222,
              "#7201a8"
             ],
             [
              0.3333333333333333,
              "#9c179e"
             ],
             [
              0.4444444444444444,
              "#bd3786"
             ],
             [
              0.5555555555555556,
              "#d8576b"
             ],
             [
              0.6666666666666666,
              "#ed7953"
             ],
             [
              0.7777777777777778,
              "#fb9f3a"
             ],
             [
              0.8888888888888888,
              "#fdca26"
             ],
             [
              1,
              "#f0f921"
             ]
            ],
            "type": "heatmap"
           }
          ],
          "heatmapgl": [
           {
            "colorbar": {
             "outlinewidth": 0,
             "ticks": ""
            },
            "colorscale": [
             [
              0,
              "#0d0887"
             ],
             [
              0.1111111111111111,
              "#46039f"
             ],
             [
              0.2222222222222222,
              "#7201a8"
             ],
             [
              0.3333333333333333,
              "#9c179e"
             ],
             [
              0.4444444444444444,
              "#bd3786"
             ],
             [
              0.5555555555555556,
              "#d8576b"
             ],
             [
              0.6666666666666666,
              "#ed7953"
             ],
             [
              0.7777777777777778,
              "#fb9f3a"
             ],
             [
              0.8888888888888888,
              "#fdca26"
             ],
             [
              1,
              "#f0f921"
             ]
            ],
            "type": "heatmapgl"
           }
          ],
          "histogram": [
           {
            "marker": {
             "pattern": {
              "fillmode": "overlay",
              "size": 10,
              "solidity": 0.2
             }
            },
            "type": "histogram"
           }
          ],
          "histogram2d": [
           {
            "colorbar": {
             "outlinewidth": 0,
             "ticks": ""
            },
            "colorscale": [
             [
              0,
              "#0d0887"
             ],
             [
              0.1111111111111111,
              "#46039f"
             ],
             [
              0.2222222222222222,
              "#7201a8"
             ],
             [
              0.3333333333333333,
              "#9c179e"
             ],
             [
              0.4444444444444444,
              "#bd3786"
             ],
             [
              0.5555555555555556,
              "#d8576b"
             ],
             [
              0.6666666666666666,
              "#ed7953"
             ],
             [
              0.7777777777777778,
              "#fb9f3a"
             ],
             [
              0.8888888888888888,
              "#fdca26"
             ],
             [
              1,
              "#f0f921"
             ]
            ],
            "type": "histogram2d"
           }
          ],
          "histogram2dcontour": [
           {
            "colorbar": {
             "outlinewidth": 0,
             "ticks": ""
            },
            "colorscale": [
             [
              0,
              "#0d0887"
             ],
             [
              0.1111111111111111,
              "#46039f"
             ],
             [
              0.2222222222222222,
              "#7201a8"
             ],
             [
              0.3333333333333333,
              "#9c179e"
             ],
             [
              0.4444444444444444,
              "#bd3786"
             ],
             [
              0.5555555555555556,
              "#d8576b"
             ],
             [
              0.6666666666666666,
              "#ed7953"
             ],
             [
              0.7777777777777778,
              "#fb9f3a"
             ],
             [
              0.8888888888888888,
              "#fdca26"
             ],
             [
              1,
              "#f0f921"
             ]
            ],
            "type": "histogram2dcontour"
           }
          ],
          "mesh3d": [
           {
            "colorbar": {
             "outlinewidth": 0,
             "ticks": ""
            },
            "type": "mesh3d"
           }
          ],
          "parcoords": [
           {
            "line": {
             "colorbar": {
              "outlinewidth": 0,
              "ticks": ""
             }
            },
            "type": "parcoords"
           }
          ],
          "pie": [
           {
            "automargin": true,
            "type": "pie"
           }
          ],
          "scatter": [
           {
            "marker": {
             "line": {
              "color": "#283442"
             }
            },
            "type": "scatter"
           }
          ],
          "scatter3d": [
           {
            "line": {
             "colorbar": {
              "outlinewidth": 0,
              "ticks": ""
             }
            },
            "marker": {
             "colorbar": {
              "outlinewidth": 0,
              "ticks": ""
             }
            },
            "type": "scatter3d"
           }
          ],
          "scattercarpet": [
           {
            "marker": {
             "colorbar": {
              "outlinewidth": 0,
              "ticks": ""
             }
            },
            "type": "scattercarpet"
           }
          ],
          "scattergeo": [
           {
            "marker": {
             "colorbar": {
              "outlinewidth": 0,
              "ticks": ""
             }
            },
            "type": "scattergeo"
           }
          ],
          "scattergl": [
           {
            "marker": {
             "line": {
              "color": "#283442"
             }
            },
            "type": "scattergl"
           }
          ],
          "scattermapbox": [
           {
            "marker": {
             "colorbar": {
              "outlinewidth": 0,
              "ticks": ""
             }
            },
            "type": "scattermapbox"
           }
          ],
          "scatterpolar": [
           {
            "marker": {
             "colorbar": {
              "outlinewidth": 0,
              "ticks": ""
             }
            },
            "type": "scatterpolar"
           }
          ],
          "scatterpolargl": [
           {
            "marker": {
             "colorbar": {
              "outlinewidth": 0,
              "ticks": ""
             }
            },
            "type": "scatterpolargl"
           }
          ],
          "scatterternary": [
           {
            "marker": {
             "colorbar": {
              "outlinewidth": 0,
              "ticks": ""
             }
            },
            "type": "scatterternary"
           }
          ],
          "surface": [
           {
            "colorbar": {
             "outlinewidth": 0,
             "ticks": ""
            },
            "colorscale": [
             [
              0,
              "#0d0887"
             ],
             [
              0.1111111111111111,
              "#46039f"
             ],
             [
              0.2222222222222222,
              "#7201a8"
             ],
             [
              0.3333333333333333,
              "#9c179e"
             ],
             [
              0.4444444444444444,
              "#bd3786"
             ],
             [
              0.5555555555555556,
              "#d8576b"
             ],
             [
              0.6666666666666666,
              "#ed7953"
             ],
             [
              0.7777777777777778,
              "#fb9f3a"
             ],
             [
              0.8888888888888888,
              "#fdca26"
             ],
             [
              1,
              "#f0f921"
             ]
            ],
            "type": "surface"
           }
          ],
          "table": [
           {
            "cells": {
             "fill": {
              "color": "#506784"
             },
             "line": {
              "color": "rgb(17,17,17)"
             }
            },
            "header": {
             "fill": {
              "color": "#2a3f5f"
             },
             "line": {
              "color": "rgb(17,17,17)"
             }
            },
            "type": "table"
           }
          ]
         },
         "layout": {
          "annotationdefaults": {
           "arrowcolor": "#f2f5fa",
           "arrowhead": 0,
           "arrowwidth": 1
          },
          "autotypenumbers": "strict",
          "coloraxis": {
           "colorbar": {
            "outlinewidth": 0,
            "ticks": ""
           }
          },
          "colorscale": {
           "diverging": [
            [
             0,
             "#8e0152"
            ],
            [
             0.1,
             "#c51b7d"
            ],
            [
             0.2,
             "#de77ae"
            ],
            [
             0.3,
             "#f1b6da"
            ],
            [
             0.4,
             "#fde0ef"
            ],
            [
             0.5,
             "#f7f7f7"
            ],
            [
             0.6,
             "#e6f5d0"
            ],
            [
             0.7,
             "#b8e186"
            ],
            [
             0.8,
             "#7fbc41"
            ],
            [
             0.9,
             "#4d9221"
            ],
            [
             1,
             "#276419"
            ]
           ],
           "sequential": [
            [
             0,
             "#0d0887"
            ],
            [
             0.1111111111111111,
             "#46039f"
            ],
            [
             0.2222222222222222,
             "#7201a8"
            ],
            [
             0.3333333333333333,
             "#9c179e"
            ],
            [
             0.4444444444444444,
             "#bd3786"
            ],
            [
             0.5555555555555556,
             "#d8576b"
            ],
            [
             0.6666666666666666,
             "#ed7953"
            ],
            [
             0.7777777777777778,
             "#fb9f3a"
            ],
            [
             0.8888888888888888,
             "#fdca26"
            ],
            [
             1,
             "#f0f921"
            ]
           ],
           "sequentialminus": [
            [
             0,
             "#0d0887"
            ],
            [
             0.1111111111111111,
             "#46039f"
            ],
            [
             0.2222222222222222,
             "#7201a8"
            ],
            [
             0.3333333333333333,
             "#9c179e"
            ],
            [
             0.4444444444444444,
             "#bd3786"
            ],
            [
             0.5555555555555556,
             "#d8576b"
            ],
            [
             0.6666666666666666,
             "#ed7953"
            ],
            [
             0.7777777777777778,
             "#fb9f3a"
            ],
            [
             0.8888888888888888,
             "#fdca26"
            ],
            [
             1,
             "#f0f921"
            ]
           ]
          },
          "colorway": [
           "#636efa",
           "#EF553B",
           "#00cc96",
           "#ab63fa",
           "#FFA15A",
           "#19d3f3",
           "#FF6692",
           "#B6E880",
           "#FF97FF",
           "#FECB52"
          ],
          "font": {
           "color": "#f2f5fa"
          },
          "geo": {
           "bgcolor": "rgb(17,17,17)",
           "lakecolor": "rgb(17,17,17)",
           "landcolor": "rgb(17,17,17)",
           "showlakes": true,
           "showland": true,
           "subunitcolor": "#506784"
          },
          "hoverlabel": {
           "align": "left"
          },
          "hovermode": "closest",
          "mapbox": {
           "style": "dark"
          },
          "paper_bgcolor": "rgb(17,17,17)",
          "plot_bgcolor": "rgb(17,17,17)",
          "polar": {
           "angularaxis": {
            "gridcolor": "#506784",
            "linecolor": "#506784",
            "ticks": ""
           },
           "bgcolor": "rgb(17,17,17)",
           "radialaxis": {
            "gridcolor": "#506784",
            "linecolor": "#506784",
            "ticks": ""
           }
          },
          "scene": {
           "xaxis": {
            "backgroundcolor": "rgb(17,17,17)",
            "gridcolor": "#506784",
            "gridwidth": 2,
            "linecolor": "#506784",
            "showbackground": true,
            "ticks": "",
            "zerolinecolor": "#C8D4E3"
           },
           "yaxis": {
            "backgroundcolor": "rgb(17,17,17)",
            "gridcolor": "#506784",
            "gridwidth": 2,
            "linecolor": "#506784",
            "showbackground": true,
            "ticks": "",
            "zerolinecolor": "#C8D4E3"
           },
           "zaxis": {
            "backgroundcolor": "rgb(17,17,17)",
            "gridcolor": "#506784",
            "gridwidth": 2,
            "linecolor": "#506784",
            "showbackground": true,
            "ticks": "",
            "zerolinecolor": "#C8D4E3"
           }
          },
          "shapedefaults": {
           "line": {
            "color": "#f2f5fa"
           }
          },
          "sliderdefaults": {
           "bgcolor": "#C8D4E3",
           "bordercolor": "rgb(17,17,17)",
           "borderwidth": 1,
           "tickwidth": 0
          },
          "ternary": {
           "aaxis": {
            "gridcolor": "#506784",
            "linecolor": "#506784",
            "ticks": ""
           },
           "baxis": {
            "gridcolor": "#506784",
            "linecolor": "#506784",
            "ticks": ""
           },
           "bgcolor": "rgb(17,17,17)",
           "caxis": {
            "gridcolor": "#506784",
            "linecolor": "#506784",
            "ticks": ""
           }
          },
          "title": {
           "x": 0.05
          },
          "updatemenudefaults": {
           "bgcolor": "#506784",
           "borderwidth": 0
          },
          "xaxis": {
           "automargin": true,
           "gridcolor": "#283442",
           "linecolor": "#506784",
           "ticks": "",
           "title": {
            "standoff": 15
           },
           "zerolinecolor": "#283442",
           "zerolinewidth": 2
          },
          "yaxis": {
           "automargin": true,
           "gridcolor": "#283442",
           "linecolor": "#506784",
           "ticks": "",
           "title": {
            "standoff": 15
           },
           "zerolinecolor": "#283442",
           "zerolinewidth": 2
          }
         }
        },
        "title": {
         "text": "Comparison of Monthly Values and Company Sentiment Scores Over Time"
        },
        "xaxis": {
         "title": {
          "text": "Date"
         }
        },
        "yaxis": {
         "tickfont": {
          "color": "blue"
         },
         "title": {
          "font": {
           "color": "blue"
          },
          "text": "Monthly Values"
         }
        },
        "yaxis2": {
         "overlaying": "y",
         "side": "right",
         "tickfont": {
          "color": "red"
         },
         "title": {
          "font": {
           "color": "red"
          },
          "text": "MA Sentiment Score"
         }
        }
       }
      }
     },
     "metadata": {},
     "output_type": "display_data"
    }
   ],
   "source": [
    "import pandas as pd\n",
    "import plotly.graph_objects as go\n",
    "\n",
    "# Load your monthly values data\n",
    "dates = pd.date_range(start=\"2020-01\", periods=52, freq='M')\n",
    "values = [\n",
    "    2.5, 2.3, 1.5, 0.3, 0.1, 0.6, 1.0, 1.3, 1.4, 1.2, 1.2, 1.4,  # 2020\n",
    "    1.4, 1.7, 2.6, 4.2, 5.0, 5.4, 5.4, 5.3, 5.4, 6.2, 6.8, 7.0,  # 2021\n",
    "    7.5, 7.9, 8.5, 8.3, 8.6, 9.1, 8.5, 8.3, 8.2, 7.7, 7.1, 6.5,  # 2022\n",
    "    6.4, 6.0, 5.0, 4.9, 4.0, 3.0, 3.2, 3.7, 3.7, 3.2, 3.1, 3.4,  # 2023\n",
    "    3.1, 3.2, 3.5, None  # 2024\n",
    "]\n",
    "monthly_df = pd.DataFrame({'Date': dates, 'Value': values})\n",
    "\n",
    "# Load and prepare your sentiment data\n",
    "overview_df = pd.read_csv(\"../overview_files_archive/overview_inflation.csv\")\n",
    "overview_df['Date'] = pd.to_datetime(overview_df['Date'])\n",
    "\n",
    "# Window size for moving average\n",
    "window_size = 8\n",
    "\n",
    "# Create a Plotly figure\n",
    "fig = go.Figure()\n",
    "\n",
    "# Plotting the monthly values as a line plot on the left y-axis\n",
    "fig.add_trace(go.Scatter(\n",
    "    x=monthly_df['Date'], y=monthly_df['Value'], \n",
    "    mode='lines+markers', name='Monthly Values',\n",
    "    yaxis='y1'  # Left y-axis\n",
    "))\n",
    "\n",
    "# Plotting original data: moving average sentiment score on the right y-axis\n",
    "for company in overview_df['Company Ticker'].unique():\n",
    "    company_df = overview_df[overview_df['Company Ticker'] == company].copy()\n",
    "    company_df.sort_values('Date', inplace=True)\n",
    "    company_df['MA Sentiment Score'] = company_df['Sentiment Score'].rolling(window=window_size, min_periods=1).mean()\n",
    "    fig.add_trace(go.Scatter(\n",
    "        x=company_df['Date'], y=company_df['MA Sentiment Score'], \n",
    "        mode='lines+markers', name=f\"{company} MA Sentiment\",\n",
    "        yaxis='y2'  # Right y-axis\n",
    "    ))\n",
    "\n",
    "# Update layout to add a secondary y-axis\n",
    "fig.update_layout(\n",
    "    title='Comparison of Monthly Values and Company Sentiment Scores Over Time',\n",
    "    xaxis_title='Date',\n",
    "    yaxis=dict(\n",
    "        title='Monthly Values',\n",
    "        titlefont=dict(color='blue'),\n",
    "        tickfont=dict(color='blue')\n",
    "    ),\n",
    "    yaxis2=dict(\n",
    "        title='MA Sentiment Score',\n",
    "        titlefont=dict(color='red'),\n",
    "        tickfont=dict(color='red'),\n",
    "        overlaying='y',\n",
    "        side='right'\n",
    "    ),\n",
    "    template='plotly_dark'\n",
    ")\n",
    "\n",
    "# Show the plot\n",
    "fig.show()\n"
   ]
  },
  {
   "cell_type": "code",
   "execution_count": null,
   "metadata": {},
   "outputs": [],
   "source": []
  }
 ],
 "metadata": {
  "kernelspec": {
   "display_name": "Python 3",
   "language": "python",
   "name": "python3"
  },
  "language_info": {
   "codemirror_mode": {
    "name": "ipython",
    "version": 3
   },
   "file_extension": ".py",
   "mimetype": "text/x-python",
   "name": "python",
   "nbconvert_exporter": "python",
   "pygments_lexer": "ipython3",
   "version": "3.9.6"
  }
 },
 "nbformat": 4,
 "nbformat_minor": 2
}
