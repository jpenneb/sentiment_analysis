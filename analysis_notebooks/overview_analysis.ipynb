{
 "cells": [
  {
   "cell_type": "code",
   "execution_count": 5,
   "metadata": {},
   "outputs": [
    {
     "data": {
      "application/vnd.plotly.v1+json": {
       "config": {
        "plotlyServerURL": "https://plot.ly"
       },
       "data": [
        {
         "mode": "lines+markers",
         "name": "roberta-base_fine_tuned_on_synthetic_earnings_call_transcripts_margin_data_AAPL MA Sentiment",
         "type": "scatter",
         "x": [
          "2015-01-27T20:38:04",
          "2015-04-27T20:48:04",
          "2015-07-21T20:25:06",
          "2015-10-27T22:59:03",
          "2016-01-26T23:13:06",
          "2016-04-26T20:27:14",
          "2016-07-26T21:01:38",
          "2016-10-25T21:35:27",
          "2017-01-31T20:27:17",
          "2017-05-02T20:13:31",
          "2017-08-01T20:16:02",
          "2017-11-02T20:46:16",
          "2018-02-01T20:58:03",
          "2018-05-01T20:35:14",
          "2018-07-31T20:39:09",
          "2018-11-01T20:47:23",
          "2019-01-29T21:05:03",
          "2019-04-30T19:54:09",
          "2019-07-30T22:26:08",
          "2019-10-30T22:27:05",
          "2020-01-28T21:35:41",
          "2020-04-30T21:51:10",
          "2020-07-30T23:35:04",
          "2020-10-29T23:40:53",
          "2021-01-27T20:48:03",
          "2021-04-28T21:17:11",
          "2021-07-27T23:13:05",
          "2021-10-28T21:25:05",
          "2022-01-27T20:19:05",
          "2022-04-28T19:21:03",
          "2022-07-28T21:11:05",
          "2022-10-27T19:46:03",
          "2023-02-02T21:33:03",
          "2023-05-04T21:35:32",
          "2023-08-03T21:47:09",
          "2023-11-02T21:32:21",
          "2024-02-01T20:17:02",
          "2024-05-02T20:30:10"
         ],
         "y": [
          0.1538461538461538,
          0.04914529914529915,
          0.13693019943019943,
          0.011788558663558671,
          0.04276418026418026,
          -0.016446516446516454,
          -0.04088272838272839,
          0.032409430846930834,
          0.03703883564994674,
          0.0416682854182854,
          0.08746703633067267,
          0.12184478330311661,
          0.12016441535672304,
          0.11554949679949678,
          0.11340175256841921,
          0.10981200897867563,
          0.11654601571268235,
          0.10355581963425099,
          0.13805465413308546,
          0.13170544778387913,
          0.1858721144505458,
          0.15392767000610136,
          0.1286751447535761,
          0.13643528584705053,
          0.15468925410101877,
          0.14256804197980666,
          0.09923470864647332,
          0.08367915309091777,
          0.1150631686854597,
          0.1161742797965708,
          0.09172983535212635,
          0.09425508787737888,
          0.11974528395581024,
          0.13054150527834735,
          0.10577960051644261,
          0.0852667800036221,
          0.17256836730520939,
          0.15361411893919633
         ]
        },
        {
         "mode": "lines+markers",
         "name": "roberta-base_fine_tuned_on_synthetic_earnings_call_transcripts_margin_data_JNJ MA Sentiment",
         "type": "scatter",
         "x": [
          "2015-04-14T15:17:04",
          "2015-07-14T18:42:07",
          "2015-10-13T15:45:05",
          "2016-01-26T15:29:08",
          "2016-04-19T12:19:14",
          "2016-07-19T15:19:31",
          "2016-10-18T19:35:17",
          "2017-01-24T18:31:02",
          "2017-04-18T15:14:07",
          "2017-07-18T14:29:06",
          "2017-07-18T14:29:06",
          "2017-10-17T16:17:05",
          "2018-01-23T17:39:02",
          "2018-04-17T16:33:05",
          "2018-07-17T16:58:05",
          "2018-10-16T15:17:08",
          "2019-01-22T14:44:18",
          "2019-04-16T14:21:20",
          "2019-07-16T16:10:40",
          "2019-10-15T15:47:03",
          "2020-01-22T14:43:06",
          "2020-04-14T16:37:09",
          "2020-07-16T15:56:07",
          "2020-10-13T16:20:03",
          "2021-01-26T14:02:20",
          "2021-04-20T15:37:06",
          "2021-07-21T12:58:03",
          "2021-10-19T12:41:04",
          "2022-01-25T12:44:01",
          "2022-04-19T10:23:05",
          "2022-07-19T13:27:05",
          "2022-10-18T09:52:05",
          "2023-01-24T13:21:02",
          "2023-04-18T12:09:12",
          "2023-07-20T12:26:06",
          "2023-10-17T12:26:02",
          "2024-01-23T13:14:12"
         ],
         "y": [
          -0.3125,
          0.09375,
          -0.020833333333333332,
          0.0431985294117647,
          0.04705882352941176,
          0.11448450347881085,
          0.12491528869612359,
          0.1477624160706466,
          0.19972043821664315,
          0.14224839439497883,
          0.08891268177321308,
          0.03604874617089987,
          0.03808345800390757,
          0.021970353860771317,
          0.04101848411620708,
          0.07210822770595066,
          0.07210822770595066,
          0.10089610649382945,
          0.09076538753958108,
          0.08104316531735886,
          0.060935638435638435,
          0.015102305102305102,
          -0.002077182077182078,
          -0.022050191523875735,
          0.014060919587235371,
          0.07332017884649462,
          0.10551714854346432,
          0.08230286282917862,
          0.0791165883193747,
          0.025270434473220846,
          -0.012763753560967187,
          -0.07387486467207831,
          -0.09849607679329044,
          -0.0973849656821793,
          -0.07182941012662376,
          -0.09611512441233802,
          -0.0627817910790047
         ]
        }
       ],
       "layout": {
        "template": {
         "data": {
          "bar": [
           {
            "error_x": {
             "color": "#f2f5fa"
            },
            "error_y": {
             "color": "#f2f5fa"
            },
            "marker": {
             "line": {
              "color": "rgb(17,17,17)",
              "width": 0.5
             },
             "pattern": {
              "fillmode": "overlay",
              "size": 10,
              "solidity": 0.2
             }
            },
            "type": "bar"
           }
          ],
          "barpolar": [
           {
            "marker": {
             "line": {
              "color": "rgb(17,17,17)",
              "width": 0.5
             },
             "pattern": {
              "fillmode": "overlay",
              "size": 10,
              "solidity": 0.2
             }
            },
            "type": "barpolar"
           }
          ],
          "carpet": [
           {
            "aaxis": {
             "endlinecolor": "#A2B1C6",
             "gridcolor": "#506784",
             "linecolor": "#506784",
             "minorgridcolor": "#506784",
             "startlinecolor": "#A2B1C6"
            },
            "baxis": {
             "endlinecolor": "#A2B1C6",
             "gridcolor": "#506784",
             "linecolor": "#506784",
             "minorgridcolor": "#506784",
             "startlinecolor": "#A2B1C6"
            },
            "type": "carpet"
           }
          ],
          "choropleth": [
           {
            "colorbar": {
             "outlinewidth": 0,
             "ticks": ""
            },
            "type": "choropleth"
           }
          ],
          "contour": [
           {
            "colorbar": {
             "outlinewidth": 0,
             "ticks": ""
            },
            "colorscale": [
             [
              0,
              "#0d0887"
             ],
             [
              0.1111111111111111,
              "#46039f"
             ],
             [
              0.2222222222222222,
              "#7201a8"
             ],
             [
              0.3333333333333333,
              "#9c179e"
             ],
             [
              0.4444444444444444,
              "#bd3786"
             ],
             [
              0.5555555555555556,
              "#d8576b"
             ],
             [
              0.6666666666666666,
              "#ed7953"
             ],
             [
              0.7777777777777778,
              "#fb9f3a"
             ],
             [
              0.8888888888888888,
              "#fdca26"
             ],
             [
              1,
              "#f0f921"
             ]
            ],
            "type": "contour"
           }
          ],
          "contourcarpet": [
           {
            "colorbar": {
             "outlinewidth": 0,
             "ticks": ""
            },
            "type": "contourcarpet"
           }
          ],
          "heatmap": [
           {
            "colorbar": {
             "outlinewidth": 0,
             "ticks": ""
            },
            "colorscale": [
             [
              0,
              "#0d0887"
             ],
             [
              0.1111111111111111,
              "#46039f"
             ],
             [
              0.2222222222222222,
              "#7201a8"
             ],
             [
              0.3333333333333333,
              "#9c179e"
             ],
             [
              0.4444444444444444,
              "#bd3786"
             ],
             [
              0.5555555555555556,
              "#d8576b"
             ],
             [
              0.6666666666666666,
              "#ed7953"
             ],
             [
              0.7777777777777778,
              "#fb9f3a"
             ],
             [
              0.8888888888888888,
              "#fdca26"
             ],
             [
              1,
              "#f0f921"
             ]
            ],
            "type": "heatmap"
           }
          ],
          "heatmapgl": [
           {
            "colorbar": {
             "outlinewidth": 0,
             "ticks": ""
            },
            "colorscale": [
             [
              0,
              "#0d0887"
             ],
             [
              0.1111111111111111,
              "#46039f"
             ],
             [
              0.2222222222222222,
              "#7201a8"
             ],
             [
              0.3333333333333333,
              "#9c179e"
             ],
             [
              0.4444444444444444,
              "#bd3786"
             ],
             [
              0.5555555555555556,
              "#d8576b"
             ],
             [
              0.6666666666666666,
              "#ed7953"
             ],
             [
              0.7777777777777778,
              "#fb9f3a"
             ],
             [
              0.8888888888888888,
              "#fdca26"
             ],
             [
              1,
              "#f0f921"
             ]
            ],
            "type": "heatmapgl"
           }
          ],
          "histogram": [
           {
            "marker": {
             "pattern": {
              "fillmode": "overlay",
              "size": 10,
              "solidity": 0.2
             }
            },
            "type": "histogram"
           }
          ],
          "histogram2d": [
           {
            "colorbar": {
             "outlinewidth": 0,
             "ticks": ""
            },
            "colorscale": [
             [
              0,
              "#0d0887"
             ],
             [
              0.1111111111111111,
              "#46039f"
             ],
             [
              0.2222222222222222,
              "#7201a8"
             ],
             [
              0.3333333333333333,
              "#9c179e"
             ],
             [
              0.4444444444444444,
              "#bd3786"
             ],
             [
              0.5555555555555556,
              "#d8576b"
             ],
             [
              0.6666666666666666,
              "#ed7953"
             ],
             [
              0.7777777777777778,
              "#fb9f3a"
             ],
             [
              0.8888888888888888,
              "#fdca26"
             ],
             [
              1,
              "#f0f921"
             ]
            ],
            "type": "histogram2d"
           }
          ],
          "histogram2dcontour": [
           {
            "colorbar": {
             "outlinewidth": 0,
             "ticks": ""
            },
            "colorscale": [
             [
              0,
              "#0d0887"
             ],
             [
              0.1111111111111111,
              "#46039f"
             ],
             [
              0.2222222222222222,
              "#7201a8"
             ],
             [
              0.3333333333333333,
              "#9c179e"
             ],
             [
              0.4444444444444444,
              "#bd3786"
             ],
             [
              0.5555555555555556,
              "#d8576b"
             ],
             [
              0.6666666666666666,
              "#ed7953"
             ],
             [
              0.7777777777777778,
              "#fb9f3a"
             ],
             [
              0.8888888888888888,
              "#fdca26"
             ],
             [
              1,
              "#f0f921"
             ]
            ],
            "type": "histogram2dcontour"
           }
          ],
          "mesh3d": [
           {
            "colorbar": {
             "outlinewidth": 0,
             "ticks": ""
            },
            "type": "mesh3d"
           }
          ],
          "parcoords": [
           {
            "line": {
             "colorbar": {
              "outlinewidth": 0,
              "ticks": ""
             }
            },
            "type": "parcoords"
           }
          ],
          "pie": [
           {
            "automargin": true,
            "type": "pie"
           }
          ],
          "scatter": [
           {
            "marker": {
             "line": {
              "color": "#283442"
             }
            },
            "type": "scatter"
           }
          ],
          "scatter3d": [
           {
            "line": {
             "colorbar": {
              "outlinewidth": 0,
              "ticks": ""
             }
            },
            "marker": {
             "colorbar": {
              "outlinewidth": 0,
              "ticks": ""
             }
            },
            "type": "scatter3d"
           }
          ],
          "scattercarpet": [
           {
            "marker": {
             "colorbar": {
              "outlinewidth": 0,
              "ticks": ""
             }
            },
            "type": "scattercarpet"
           }
          ],
          "scattergeo": [
           {
            "marker": {
             "colorbar": {
              "outlinewidth": 0,
              "ticks": ""
             }
            },
            "type": "scattergeo"
           }
          ],
          "scattergl": [
           {
            "marker": {
             "line": {
              "color": "#283442"
             }
            },
            "type": "scattergl"
           }
          ],
          "scattermapbox": [
           {
            "marker": {
             "colorbar": {
              "outlinewidth": 0,
              "ticks": ""
             }
            },
            "type": "scattermapbox"
           }
          ],
          "scatterpolar": [
           {
            "marker": {
             "colorbar": {
              "outlinewidth": 0,
              "ticks": ""
             }
            },
            "type": "scatterpolar"
           }
          ],
          "scatterpolargl": [
           {
            "marker": {
             "colorbar": {
              "outlinewidth": 0,
              "ticks": ""
             }
            },
            "type": "scatterpolargl"
           }
          ],
          "scatterternary": [
           {
            "marker": {
             "colorbar": {
              "outlinewidth": 0,
              "ticks": ""
             }
            },
            "type": "scatterternary"
           }
          ],
          "surface": [
           {
            "colorbar": {
             "outlinewidth": 0,
             "ticks": ""
            },
            "colorscale": [
             [
              0,
              "#0d0887"
             ],
             [
              0.1111111111111111,
              "#46039f"
             ],
             [
              0.2222222222222222,
              "#7201a8"
             ],
             [
              0.3333333333333333,
              "#9c179e"
             ],
             [
              0.4444444444444444,
              "#bd3786"
             ],
             [
              0.5555555555555556,
              "#d8576b"
             ],
             [
              0.6666666666666666,
              "#ed7953"
             ],
             [
              0.7777777777777778,
              "#fb9f3a"
             ],
             [
              0.8888888888888888,
              "#fdca26"
             ],
             [
              1,
              "#f0f921"
             ]
            ],
            "type": "surface"
           }
          ],
          "table": [
           {
            "cells": {
             "fill": {
              "color": "#506784"
             },
             "line": {
              "color": "rgb(17,17,17)"
             }
            },
            "header": {
             "fill": {
              "color": "#2a3f5f"
             },
             "line": {
              "color": "rgb(17,17,17)"
             }
            },
            "type": "table"
           }
          ]
         },
         "layout": {
          "annotationdefaults": {
           "arrowcolor": "#f2f5fa",
           "arrowhead": 0,
           "arrowwidth": 1
          },
          "autotypenumbers": "strict",
          "coloraxis": {
           "colorbar": {
            "outlinewidth": 0,
            "ticks": ""
           }
          },
          "colorscale": {
           "diverging": [
            [
             0,
             "#8e0152"
            ],
            [
             0.1,
             "#c51b7d"
            ],
            [
             0.2,
             "#de77ae"
            ],
            [
             0.3,
             "#f1b6da"
            ],
            [
             0.4,
             "#fde0ef"
            ],
            [
             0.5,
             "#f7f7f7"
            ],
            [
             0.6,
             "#e6f5d0"
            ],
            [
             0.7,
             "#b8e186"
            ],
            [
             0.8,
             "#7fbc41"
            ],
            [
             0.9,
             "#4d9221"
            ],
            [
             1,
             "#276419"
            ]
           ],
           "sequential": [
            [
             0,
             "#0d0887"
            ],
            [
             0.1111111111111111,
             "#46039f"
            ],
            [
             0.2222222222222222,
             "#7201a8"
            ],
            [
             0.3333333333333333,
             "#9c179e"
            ],
            [
             0.4444444444444444,
             "#bd3786"
            ],
            [
             0.5555555555555556,
             "#d8576b"
            ],
            [
             0.6666666666666666,
             "#ed7953"
            ],
            [
             0.7777777777777778,
             "#fb9f3a"
            ],
            [
             0.8888888888888888,
             "#fdca26"
            ],
            [
             1,
             "#f0f921"
            ]
           ],
           "sequentialminus": [
            [
             0,
             "#0d0887"
            ],
            [
             0.1111111111111111,
             "#46039f"
            ],
            [
             0.2222222222222222,
             "#7201a8"
            ],
            [
             0.3333333333333333,
             "#9c179e"
            ],
            [
             0.4444444444444444,
             "#bd3786"
            ],
            [
             0.5555555555555556,
             "#d8576b"
            ],
            [
             0.6666666666666666,
             "#ed7953"
            ],
            [
             0.7777777777777778,
             "#fb9f3a"
            ],
            [
             0.8888888888888888,
             "#fdca26"
            ],
            [
             1,
             "#f0f921"
            ]
           ]
          },
          "colorway": [
           "#636efa",
           "#EF553B",
           "#00cc96",
           "#ab63fa",
           "#FFA15A",
           "#19d3f3",
           "#FF6692",
           "#B6E880",
           "#FF97FF",
           "#FECB52"
          ],
          "font": {
           "color": "#f2f5fa"
          },
          "geo": {
           "bgcolor": "rgb(17,17,17)",
           "lakecolor": "rgb(17,17,17)",
           "landcolor": "rgb(17,17,17)",
           "showlakes": true,
           "showland": true,
           "subunitcolor": "#506784"
          },
          "hoverlabel": {
           "align": "left"
          },
          "hovermode": "closest",
          "mapbox": {
           "style": "dark"
          },
          "paper_bgcolor": "rgb(17,17,17)",
          "plot_bgcolor": "rgb(17,17,17)",
          "polar": {
           "angularaxis": {
            "gridcolor": "#506784",
            "linecolor": "#506784",
            "ticks": ""
           },
           "bgcolor": "rgb(17,17,17)",
           "radialaxis": {
            "gridcolor": "#506784",
            "linecolor": "#506784",
            "ticks": ""
           }
          },
          "scene": {
           "xaxis": {
            "backgroundcolor": "rgb(17,17,17)",
            "gridcolor": "#506784",
            "gridwidth": 2,
            "linecolor": "#506784",
            "showbackground": true,
            "ticks": "",
            "zerolinecolor": "#C8D4E3"
           },
           "yaxis": {
            "backgroundcolor": "rgb(17,17,17)",
            "gridcolor": "#506784",
            "gridwidth": 2,
            "linecolor": "#506784",
            "showbackground": true,
            "ticks": "",
            "zerolinecolor": "#C8D4E3"
           },
           "zaxis": {
            "backgroundcolor": "rgb(17,17,17)",
            "gridcolor": "#506784",
            "gridwidth": 2,
            "linecolor": "#506784",
            "showbackground": true,
            "ticks": "",
            "zerolinecolor": "#C8D4E3"
           }
          },
          "shapedefaults": {
           "line": {
            "color": "#f2f5fa"
           }
          },
          "sliderdefaults": {
           "bgcolor": "#C8D4E3",
           "bordercolor": "rgb(17,17,17)",
           "borderwidth": 1,
           "tickwidth": 0
          },
          "ternary": {
           "aaxis": {
            "gridcolor": "#506784",
            "linecolor": "#506784",
            "ticks": ""
           },
           "baxis": {
            "gridcolor": "#506784",
            "linecolor": "#506784",
            "ticks": ""
           },
           "bgcolor": "rgb(17,17,17)",
           "caxis": {
            "gridcolor": "#506784",
            "linecolor": "#506784",
            "ticks": ""
           }
          },
          "title": {
           "x": 0.05
          },
          "updatemenudefaults": {
           "bgcolor": "#506784",
           "borderwidth": 0
          },
          "xaxis": {
           "automargin": true,
           "gridcolor": "#283442",
           "linecolor": "#506784",
           "ticks": "",
           "title": {
            "standoff": 15
           },
           "zerolinecolor": "#283442",
           "zerolinewidth": 2
          },
          "yaxis": {
           "automargin": true,
           "gridcolor": "#283442",
           "linecolor": "#506784",
           "ticks": "",
           "title": {
            "standoff": 15
           },
           "zerolinecolor": "#283442",
           "zerolinewidth": 2
          }
         }
        },
        "title": {
         "text": "Comparison of Company Sentiment Scores Over Time (Smoothed)"
        },
        "xaxis": {
         "title": {
          "text": "Date"
         }
        },
        "yaxis": {
         "title": {
          "text": "Sentiment Score"
         }
        }
       }
      }
     },
     "metadata": {},
     "output_type": "display_data"
    }
   ],
   "source": [
    "import pandas as pd\n",
    "import plotly.graph_objects as go\n",
    "\n",
    "# Load original data\n",
    "overview_df = pd.read_csv(\"../overview.csv\")\n",
    "overview_df['Date'] = pd.to_datetime(overview_df['Date'])\n",
    "\n",
    "# # Load financial events data\n",
    "# events_df = pd.read_csv(\"amenity_extractions.csv\")\n",
    "# events_df['Financial Events Publication Date'] = pd.to_datetime(events_df['Financial Events Publication Date'])\n",
    "\n",
    "# # Rename columns for easier manipulation\n",
    "# events_df.rename(columns={\n",
    "#     'Financial Events Publication Date': 'Date',\n",
    "#     'Company Info Company': 'Company Ticker',\n",
    "#     'Financial Events Polarity': 'Polarity'\n",
    "# }, inplace=True)\n",
    "\n",
    "# # Calculate sentiment score for each date and company\n",
    "# polarity_count = events_df.groupby(['Date', 'Company Ticker', 'Polarity']).size().unstack(fill_value=0)\n",
    "# polarity_count['Sentiment Score'] = (polarity_count.get('pos', 0) - polarity_count.get('neg', 0)) / \\\n",
    "#                                     (polarity_count.get('pos', 0) + polarity_count.get('neg', 0) + 1)\n",
    "\n",
    "# polarity_count.reset_index(inplace=True)\n",
    "\n",
    "# Window size for moving average\n",
    "window_size = 15\n",
    "\n",
    "# Create a Plotly figure\n",
    "fig = go.Figure()\n",
    "\n",
    "# Plotting original data: moving average sentiment score\n",
    "for company in overview_df['Company Ticker'].unique():\n",
    "    company_df = overview_df[overview_df['Company Ticker'] == company].copy()\n",
    "    company_df.sort_values('Date', inplace=True)\n",
    "    company_df['MA Sentiment Score'] = company_df['Sentiment Score'].rolling(window=window_size, min_periods=1).mean()\n",
    "    fig.add_trace(go.Scatter(x=company_df['Date'], y=company_df['MA Sentiment Score'], mode='lines+markers', name=f\"{company} MA Sentiment\"))\n",
    "\n",
    "# # Plotting new data: moving average of sentiment score from financial events\n",
    "# for company in polarity_count['Company Ticker'].unique():\n",
    "#     company_df = polarity_count[polarity_count['Company Ticker'] == company]\n",
    "#     company_df.sort_values('Date', inplace=True)\n",
    "#     company_df['MA Sentiment Score'] = company_df['Sentiment Score'].rolling(window=window_size, min_periods=1).mean()\n",
    "#     fig.add_trace(go.Scatter(x=company_df['Date'], y=company_df['MA Sentiment Score'], mode='lines', name=f\"{company} Events MA Sentiment\"))\n",
    "\n",
    "# Update layout\n",
    "fig.update_layout(title='Comparison of Company Sentiment Scores Over Time (Smoothed)',\n",
    "                  xaxis_title='Date',\n",
    "                  yaxis_title='Sentiment Score',\n",
    "                  template='plotly_dark')\n",
    "\n",
    "# Show the plot\n",
    "fig.show()\n"
   ]
  },
  {
   "cell_type": "code",
   "execution_count": null,
   "metadata": {},
   "outputs": [],
   "source": []
  }
 ],
 "metadata": {
  "kernelspec": {
   "display_name": "Python 3",
   "language": "python",
   "name": "python3"
  },
  "language_info": {
   "codemirror_mode": {
    "name": "ipython",
    "version": 3
   },
   "file_extension": ".py",
   "mimetype": "text/x-python",
   "name": "python",
   "nbconvert_exporter": "python",
   "pygments_lexer": "ipython3",
   "version": "3.9.6"
  }
 },
 "nbformat": 4,
 "nbformat_minor": 2
}
