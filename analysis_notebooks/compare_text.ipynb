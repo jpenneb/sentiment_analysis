{
 "cells": [
  {
   "cell_type": "code",
   "execution_count": 5,
   "metadata": {},
   "outputs": [
    {
     "name": "stdout",
     "output_type": "stream",
     "text": [
      "2024-01-09T12:00:00-05:00\n",
      "2024-01-29T13:30:00-05:00\n",
      "2024-02-01T16:00:00-05:00\n",
      "2024-02-01T16:30:00-05:00\n",
      "2024-02-13T12:00:00-05:00\n",
      "2024-03-06T14:00:00-05:00\n",
      "2024-03-06T19:00:00-05:00\n"
     ]
    }
   ],
   "source": [
    "import requests\n",
    "\n",
    "AIERA_API_KEY = \"29bcc52c4c05ebf2d9137cbac5f47f80\"\n",
    "ticker = \"META\"\n",
    "\n",
    "url = \"https://premium.aiera.com/api/events/\"\n",
    "params = {\"start_date\": \"2024-01-01\", \"end_date\": \"2024-03-13\", \"ticker\": ticker}\n",
    "headers = {\"X-API-Key\": f\"{AIERA_API_KEY}\"}\n",
    "events = requests.get(url, params=params, headers=headers).json()\n",
    "for event in events:\n",
    "    if event[\"event_type\"] == \"earnings\":\n",
    "        aiera_text = \"\"\n",
    "        for item in requests.get(f\"{url}{event['event_id']}/transcript\", headers=headers).json():\n",
    "            aiera_text += item[\"transcript\"] + \"\\n\""
   ]
  },
  {
   "cell_type": "code",
   "execution_count": 2,
   "metadata": {},
   "outputs": [],
   "source": [
    "import fitz\n",
    "\n",
    "path = \"../earnings_call_transcripts/Meta Platforms, Inc. (META) Q4 2023 Earnings Call Transcript | Seeking Alpha.pdf\"\n",
    "with fitz.open(path) as doc:\n",
    "    pdf_text = \"\"\n",
    "    for page in doc:\n",
    "        pdf_text += page.get_text()"
   ]
  },
  {
   "cell_type": "code",
   "execution_count": 3,
   "metadata": {},
   "outputs": [],
   "source": [
    "import requests\n",
    "\n",
    "ticker = \"META\"\n",
    "quarter = \"Q4\"\n",
    "year = \"2023\"\n",
    "\n",
    "url = f\"https://discountingcashflows.com/api/transcript/{ticker}/{quarter}/{year}/\"\n",
    "discouting_cashflows_text = requests.get(url).json()[0]['content']"
   ]
  },
  {
   "cell_type": "code",
   "execution_count": 4,
   "metadata": {},
   "outputs": [
    {
     "name": "stdout",
     "output_type": "stream",
     "text": [
      "[[1.         0.99462706 0.94073048]\n",
      " [0.99462706 1.         0.94628302]\n",
      " [0.94073048 0.94628302 1.        ]]\n"
     ]
    }
   ],
   "source": [
    "from sklearn.feature_extraction.text import TfidfVectorizer\n",
    "from sklearn.metrics.pairwise import cosine_similarity\n",
    "\n",
    "texts = [aiera_text, discouting_cashflows_text, pdf_text]\n",
    "vectorizer = TfidfVectorizer()\n",
    "tfidf_matrix = vectorizer.fit_transform(texts)\n",
    "similarity_matrix = cosine_similarity(tfidf_matrix, tfidf_matrix)\n",
    "print(similarity_matrix)"
   ]
  },
  {
   "cell_type": "code",
   "execution_count": null,
   "metadata": {},
   "outputs": [],
   "source": []
  }
 ],
 "metadata": {
  "kernelspec": {
   "display_name": "Python 3",
   "language": "python",
   "name": "python3"
  },
  "language_info": {
   "codemirror_mode": {
    "name": "ipython",
    "version": 3
   },
   "file_extension": ".py",
   "mimetype": "text/x-python",
   "name": "python",
   "nbconvert_exporter": "python",
   "pygments_lexer": "ipython3",
   "version": "3.9.6"
  }
 },
 "nbformat": 4,
 "nbformat_minor": 2
}
